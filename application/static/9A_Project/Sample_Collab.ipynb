{
 "cells": [
  {
   "cell_type": "code",
   "execution_count": 2,
   "id": "139340d4",
   "metadata": {},
   "outputs": [
    {
     "name": "stdout",
     "output_type": "stream",
     "text": [
      "<class 'pandas.core.frame.DataFrame'>\n",
      "RangeIndex: 12 entries, 0 to 11\n",
      "Data columns (total 3 columns):\n",
      " #   Column       Non-Null Count  Dtype\n",
      "---  ------       --------------  -----\n",
      " 0   User-ID      12 non-null     int64\n",
      " 1   ISBN         12 non-null     int64\n",
      " 2   Book-Rating  12 non-null     int64\n",
      "dtypes: int64(3)\n",
      "memory usage: 416.0 bytes\n"
     ]
    }
   ],
   "source": [
    "import numpy as np\n",
    "import pandas as pd\n",
    "from pandas.api.types import is_numeric_dtype\n",
    "from sklearn.feature_extraction import DictVectorizer\n",
    "from sklearn.metrics.pairwise import cosine_similarity\n",
    "\n",
    "\n",
    "import warnings\n",
    "warnings.filterwarnings(\"ignore\")\n",
    "\n",
    "books=pd.read_csv('Dataset/SampleBooks.csv',header=[0])\n",
    "users=pd.read_csv('Dataset/SampleUsers.csv',header=[0])\n",
    "ratings=pd.read_csv('Dataset/SampleRatings.csv',header=[0])\n",
    "#books.info()\n",
    "users.drop(['Location', 'Age'], axis=1, inplace=True)\n",
    "#users.info()\n",
    "ratings.info()\n",
    "#book_data.describe()\n",
    "#ratings_data.describe()"
   ]
  },
  {
   "cell_type": "code",
   "execution_count": 3,
   "id": "4c9a7522",
   "metadata": {},
   "outputs": [
    {
     "name": "stdout",
     "output_type": "stream",
     "text": [
      "12345679\n"
     ]
    }
   ],
   "source": [
    "print(books.iloc[0]['ISBN'])"
   ]
  },
  {
   "cell_type": "code",
   "execution_count": 4,
   "id": "78d8ffc5",
   "metadata": {},
   "outputs": [
    {
     "name": "stdout",
     "output_type": "stream",
     "text": [
      "       ISBN                                Book-Title\n",
      "0  12345679      Harry Potter and the Goblet of Fire \n",
      "1  12345678                                      ABCD\n",
      "2  12345677  Harry Potter and the Prisoner of Azkaban\n",
      "3  12345676                                       FGH\n",
      "4  12345675     Harry Potter and the Sorcerer's Stone\n"
     ]
    }
   ],
   "source": [
    "print(books.head())"
   ]
  },
  {
   "cell_type": "code",
   "execution_count": 5,
   "id": "d38d581b",
   "metadata": {},
   "outputs": [
    {
     "name": "stdout",
     "output_type": "stream",
     "text": [
      "<class 'pandas.core.frame.DataFrame'>\n",
      "Int64Index: 12 entries, 0 to 11\n",
      "Data columns (total 4 columns):\n",
      " #   Column       Non-Null Count  Dtype \n",
      "---  ------       --------------  ----- \n",
      " 0   ISBN         12 non-null     int64 \n",
      " 1   Book-Title   12 non-null     object\n",
      " 2   User-ID      12 non-null     int64 \n",
      " 3   Book-Rating  12 non-null     int64 \n",
      "dtypes: int64(3), object(1)\n",
      "memory usage: 480.0+ bytes\n",
      "        ISBN                                Book-Title  User-ID  Book-Rating\n",
      "0   12345679      Harry Potter and the Goblet of Fire    276725            9\n",
      "1   12345679      Harry Potter and the Goblet of Fire    276726            7\n",
      "2   12345679      Harry Potter and the Goblet of Fire    276733           10\n",
      "3   12345678                                      ABCD   276727            6\n",
      "4   12345678                                      ABCD   276737            9\n",
      "5   12345677  Harry Potter and the Prisoner of Azkaban   276729            8\n",
      "6   12345676                                       FGH   272629            7\n",
      "7   12345675     Harry Potter and the Sorcerer's Stone   276736            9\n",
      "8   12345673   Harry Potter and the Chamber of Secrets   276744            8\n",
      "9   12345672                                    ABCDEF   276745            7\n",
      "10  12345671                                   ABCDEFG   276746            6\n",
      "11  12345670                                       OPQ   276725            9\n"
     ]
    }
   ],
   "source": [
    "dataset1 = pd.merge(books, ratings, on='ISBN', how='inner')\n",
    "#dataset = pd.merge(dataset, users, on='User-ID', how='inner')\n",
    "dataset1.info()\n",
    "print(dataset1)\n"
   ]
  },
  {
   "cell_type": "code",
   "execution_count": 6,
   "id": "c00f5bde",
   "metadata": {},
   "outputs": [
    {
     "name": "stdout",
     "output_type": "stream",
     "text": [
      "        ISBN                                Book-Title  User-ID  Book-Rating\n",
      "0   12345679      Harry Potter and the Goblet of Fire    276725            9\n",
      "1   12345670                                       OPQ   276725            9\n",
      "2   12345679      Harry Potter and the Goblet of Fire    276726            7\n",
      "3   12345679      Harry Potter and the Goblet of Fire    276733           10\n",
      "4   12345678                                      ABCD   276727            6\n",
      "5   12345678                                      ABCD   276737            9\n",
      "6   12345677  Harry Potter and the Prisoner of Azkaban   276729            8\n",
      "7   12345675     Harry Potter and the Sorcerer's Stone   276736            9\n",
      "8   12345673   Harry Potter and the Chamber of Secrets   276744            8\n",
      "9   12345672                                    ABCDEF   276745            7\n",
      "10  12345671                                   ABCDEFG   276746            6\n"
     ]
    }
   ],
   "source": [
    "dataset1 = pd.merge(dataset1, users, on='User-ID', how='inner')\n",
    "print(dataset1)\n"
   ]
  },
  {
   "cell_type": "code",
   "execution_count": 7,
   "id": "c3b685b2",
   "metadata": {},
   "outputs": [
    {
     "name": "stdout",
     "output_type": "stream",
     "text": [
      "                                          Book-Title\n",
      "Harry Potter and the Goblet of Fire                3\n",
      "ABCD                                               2\n",
      "OPQ                                                1\n",
      "Harry Potter and the Prisoner of Azkaban           1\n",
      "Harry Potter and the Sorcerer's Stone              1\n",
      "Harry Potter and the Chamber of Secrets            1\n",
      "ABCDEF                                             1\n",
      "ABCDEFG                                            1\n"
     ]
    }
   ],
   "source": [
    "df = pd.DataFrame(dataset1['Book-Title'].value_counts())\n",
    "print(df)"
   ]
  },
  {
   "cell_type": "code",
   "execution_count": 8,
   "id": "a392f1d2",
   "metadata": {},
   "outputs": [
    {
     "name": "stdout",
     "output_type": "stream",
     "text": [
      "<class 'pandas.core.frame.DataFrame'>\n",
      "Int64Index: 11 entries, 0 to 10\n",
      "Data columns (total 5 columns):\n",
      " #   Column         Non-Null Count  Dtype \n",
      "---  ------         --------------  ----- \n",
      " 0   ISBN           11 non-null     int64 \n",
      " 1   Book-Title     11 non-null     object\n",
      " 2   User-ID        11 non-null     int64 \n",
      " 3   Book-Rating    11 non-null     int64 \n",
      " 4   Total-Ratings  11 non-null     int64 \n",
      "dtypes: int64(4), object(1)\n",
      "memory usage: 528.0+ bytes\n",
      "None\n",
      "        ISBN                                Book-Title  User-ID  Book-Rating  \\\n",
      "0   12345679      Harry Potter and the Goblet of Fire    276725            9   \n",
      "1   12345670                                       OPQ   276725            9   \n",
      "2   12345679      Harry Potter and the Goblet of Fire    276726            7   \n",
      "3   12345679      Harry Potter and the Goblet of Fire    276733           10   \n",
      "4   12345678                                      ABCD   276727            6   \n",
      "5   12345678                                      ABCD   276737            9   \n",
      "6   12345677  Harry Potter and the Prisoner of Azkaban   276729            8   \n",
      "7   12345675     Harry Potter and the Sorcerer's Stone   276736            9   \n",
      "8   12345673   Harry Potter and the Chamber of Secrets   276744            8   \n",
      "9   12345672                                    ABCDEF   276745            7   \n",
      "10  12345671                                   ABCDEFG   276746            6   \n",
      "\n",
      "    Total-Ratings  \n",
      "0               3  \n",
      "1               1  \n",
      "2               3  \n",
      "3               3  \n",
      "4               2  \n",
      "5               2  \n",
      "6               1  \n",
      "7               1  \n",
      "8               1  \n",
      "9               1  \n",
      "10              1  \n"
     ]
    }
   ],
   "source": [
    "df = pd.DataFrame(dataset1['Book-Title'].value_counts())\n",
    "df['Total-Ratings'] = df['Book-Title']\n",
    "df['Book-Title'] = df.index\n",
    "df.reset_index(level=0, inplace=True)\n",
    "df = df.drop('index',axis=1)\n",
    "df = dataset1.merge(df, left_on = 'Book-Title', right_on = 'Book-Title', how = 'left')\n",
    "print(df.info())\n",
    "print(df)"
   ]
  },
  {
   "cell_type": "code",
   "execution_count": 9,
   "id": "ad15b7c5",
   "metadata": {},
   "outputs": [
    {
     "name": "stdout",
     "output_type": "stream",
     "text": [
      "        ISBN                                Book-Title  User-ID  Book-Rating  \\\n",
      "0   12345679      Harry Potter and the Goblet of Fire    276725            9   \n",
      "1   12345670                                       OPQ   276725            9   \n",
      "2   12345679      Harry Potter and the Goblet of Fire    276726            7   \n",
      "3   12345679      Harry Potter and the Goblet of Fire    276733           10   \n",
      "4   12345678                                      ABCD   276727            6   \n",
      "5   12345678                                      ABCD   276737            9   \n",
      "6   12345677  Harry Potter and the Prisoner of Azkaban   276729            8   \n",
      "7   12345675     Harry Potter and the Sorcerer's Stone   276736            9   \n",
      "8   12345673   Harry Potter and the Chamber of Secrets   276744            8   \n",
      "9   12345672                                    ABCDEF   276745            7   \n",
      "10  12345671                                   ABCDEFG   276746            6   \n",
      "\n",
      "    Total-Ratings  \n",
      "0               3  \n",
      "1               1  \n",
      "2               3  \n",
      "3               3  \n",
      "4               2  \n",
      "5               2  \n",
      "6               1  \n",
      "7               1  \n",
      "8               1  \n",
      "9               1  \n",
      "10              1  \n"
     ]
    }
   ],
   "source": [
    "popularity_threshold = 1\n",
    "popular_book = df[df['Total-Ratings'] >= popularity_threshold]\n",
    "popular_book = popular_book.reset_index(drop = True)\n",
    "print(popular_book)"
   ]
  },
  {
   "cell_type": "code",
   "execution_count": 76,
   "id": "f598220c",
   "metadata": {},
   "outputs": [
    {
     "data": {
      "text/plain": [
       "(11, 11)"
      ]
     },
     "execution_count": 76,
     "metadata": {},
     "output_type": "execute_result"
    }
   ],
   "source": [
    "from sklearn.feature_extraction.text import TfidfVectorizer\n",
    "\n",
    "tf = TfidfVectorizer(ngram_range=(1, 2), min_df = 1, stop_words='english')\n",
    "tfidf_matrix = tf.fit_transform(popular_book['Book-Title'])\n",
    "tfidf_matrix.shape\n",
    "\n",
    "normalized_df = tfidf_matrix.astype(np.float64)\n",
    "cosine_similarities = cosine_similarity(normalized_df, normalized_df)\n",
    "cosine_similarities.shape"
   ]
  },
  {
   "cell_type": "code",
   "execution_count": 77,
   "id": "f890b639",
   "metadata": {},
   "outputs": [
    {
     "name": "stdout",
     "output_type": "stream",
     "text": [
      "[[1.         0.         1.         1.         0.         0.\n",
      "  0.28788276 0.28788276 0.28788276 0.         0.        ]\n",
      " [0.         1.         0.         0.         0.         0.\n",
      "  0.         0.         0.         0.         0.        ]\n",
      " [1.         0.         1.         1.         0.         0.\n",
      "  0.28788276 0.28788276 0.28788276 0.         0.        ]\n",
      " [1.         0.         1.         1.         0.         0.\n",
      "  0.28788276 0.28788276 0.28788276 0.         0.        ]\n",
      " [0.         0.         0.         0.         1.         1.\n",
      "  0.         0.         0.         0.         0.        ]\n",
      " [0.         0.         0.         0.         1.         1.\n",
      "  0.         0.         0.         0.         0.        ]\n",
      " [0.28788276 0.         0.28788276 0.28788276 0.         0.\n",
      "  1.         0.18561404 0.18561404 0.         0.        ]\n",
      " [0.28788276 0.         0.28788276 0.28788276 0.         0.\n",
      "  0.18561404 1.         0.18561404 0.         0.        ]\n",
      " [0.28788276 0.         0.28788276 0.28788276 0.         0.\n",
      "  0.18561404 0.18561404 1.         0.         0.        ]\n",
      " [0.         0.         0.         0.         0.         0.\n",
      "  0.         0.         0.         1.         0.        ]\n",
      " [0.         0.         0.         0.         0.         0.\n",
      "  0.         0.         0.         0.         1.        ]]\n"
     ]
    }
   ],
   "source": [
    "print(cosine_similarities)"
   ]
  },
  {
   "cell_type": "code",
   "execution_count": 65,
   "id": "c5424924",
   "metadata": {},
   "outputs": [
    {
     "name": "stdout",
     "output_type": "stream",
     "text": [
      "Recommended Books:\n",
      "\n",
      "Harry Potter and the Goblet of Fire \n",
      "Harry Potter and the Order of the Phoenix\n",
      "Harry Potter and the Chamber of Secrets\n",
      "Harry Potter and the Sorcerer's Stone\n"
     ]
    }
   ],
   "source": [
    "print(\"Recommended Books:\\n\")\n",
    "isbn = books.loc[books['Book-Title'] == 'Harry Potter and the Prisoner of Azkaban'].reset_index(drop = True).iloc[0]['ISBN']\n",
    "content = []\n",
    "\n",
    "idx = popular_book.index[popular_book['ISBN'] == isbn].tolist()[0]\n",
    "similar_indices = cosine_similarities[idx].argsort()[::-1]\n",
    "similar_items = []\n",
    "for i in similar_indices:\n",
    "    if popular_book['Book-Title'][i] != 'Harry Potter and the Prisoner of Azkaban' and popular_book['Book-Title'][i] not in similar_items and len(similar_items) < 4:\n",
    "        similar_items.append(popular_book['Book-Title'][i])\n",
    "        content.append(popular_book['Book-Title'][i])\n",
    "\n",
    "for book in similar_items:\n",
    "    print(book)"
   ]
  },
  {
   "cell_type": "code",
   "execution_count": 78,
   "id": "411eb91e",
   "metadata": {},
   "outputs": [
    {
     "name": "stdout",
     "output_type": "stream",
     "text": [
      "Recommended Books:\n",
      "\n",
      "ABCDEFG\n",
      "ABCDEF\n"
     ]
    }
   ],
   "source": [
    "print(\"Recommended Books:\\n\")\n",
    "isbn = books.loc[books['Book-Title'] == 'ABCD'].reset_index(drop = True).iloc[0]['ISBN']\n",
    "content = []\n",
    "\n",
    "idx = popular_book.index[popular_book['ISBN'] == isbn].tolist()[0]\n",
    "similar_indices = cosine_similarities[idx].argsort()[::-1]\n",
    "similar_items = []\n",
    "for i in similar_indices:\n",
    "    if popular_book['Book-Title'][i] != 'ABCD' and popular_book['Book-Title'][i] not in similar_items and len(similar_items) < 2:\n",
    "        similar_items.append(popular_book['Book-Title'][i])\n",
    "        content.append(popular_book['Book-Title'][i])\n",
    "\n",
    "for book in similar_items:\n",
    "    print(book)"
   ]
  },
  {
   "cell_type": "code",
   "execution_count": 23,
   "id": "75800a53",
   "metadata": {},
   "outputs": [
    {
     "name": "stdout",
     "output_type": "stream",
     "text": [
      "\n",
      "Recommended books:\n",
      "\n",
      "Harry Potter and the Prisoner of Azkaban\n",
      "Harry Potter and the Sorcerer's Stone\n",
      "Harry Potter and the Chamber of Secrets\n",
      "Harry Potter and the Goblet of Fire \n"
     ]
    }
   ],
   "source": [
    "from scipy.sparse import csr_matrix\n",
    "from pandas.api.types import is_numeric_dtype\n",
    "from sklearn.neighbors import NearestNeighbors\n",
    "\n",
    "data = (dataset1.groupby(by = ['Book-Title'])['Book-Rating'].count().reset_index().\n",
    "        rename(columns = {'Book-Rating': 'Total-Rating'})[['Book-Title', 'Total-Rating']])\n",
    "\n",
    "result = pd.merge(data, dataset1, on='Book-Title',)\n",
    "result = result[result['Total-Rating'] >= popularity_threshold]\n",
    "result = result.reset_index(drop = True)\n",
    "\n",
    "matrix = result.pivot_table(index = 'Book-Title', columns = 'User-ID', values = 'Book-Rating').fillna(0)\n",
    "up_matrix = csr_matrix(matrix)\n",
    "\n",
    "model = NearestNeighbors(metric = 'cosine', algorithm = 'brute')\n",
    "model.fit(up_matrix)\n",
    "\n",
    "bookName=\"ABCD\"\n",
    "distances, indices = model.kneighbors(matrix.loc[bookName].values.reshape(1, -1), n_neighbors = 4+1)\n",
    "print(\"\\nRecommended books:\\n\")\n",
    "for i in range(0, len(distances.flatten())):\n",
    "    if i > 0:\n",
    "        print(matrix.index[indices.flatten()[i]])"
   ]
  },
  {
   "cell_type": "code",
   "execution_count": 24,
   "id": "61b49b06",
   "metadata": {},
   "outputs": [
    {
     "name": "stdout",
     "output_type": "stream",
     "text": [
      "User-ID\n",
      "276725    0.0\n",
      "276726    0.0\n",
      "276727    6.0\n",
      "276729    0.0\n",
      "276733    0.0\n",
      "276736    0.0\n",
      "276737    9.0\n",
      "276744    0.0\n",
      "276745    0.0\n",
      "276746    0.0\n",
      "Name: ABCD, dtype: float64\n"
     ]
    }
   ],
   "source": [
    "print(matrix.loc['ABCD'])"
   ]
  },
  {
   "cell_type": "code",
   "execution_count": 14,
   "id": "3f1aab08",
   "metadata": {},
   "outputs": [
    {
     "name": "stdout",
     "output_type": "stream",
     "text": [
      "[[2.22044605e-16 1.00000000e+00 1.00000000e+00 1.00000000e+00\n",
      "  1.00000000e+00]] [[0 5 6 3 4]]\n"
     ]
    }
   ],
   "source": [
    "print(distances,indices)"
   ]
  },
  {
   "cell_type": "code",
   "execution_count": 15,
   "id": "1877dfcb",
   "metadata": {},
   "outputs": [
    {
     "name": "stdout",
     "output_type": "stream",
     "text": [
      "[2.22044605e-16 1.00000000e+00 1.00000000e+00 1.00000000e+00\n",
      " 1.00000000e+00]\n"
     ]
    }
   ],
   "source": [
    "print(distances.flatten())"
   ]
  },
  {
   "cell_type": "code",
   "execution_count": 11,
   "id": "cf3df95d",
   "metadata": {},
   "outputs": [
    {
     "name": "stdout",
     "output_type": "stream",
     "text": [
      "                                 Book-Title  Total-Rating\n",
      "0                                      ABCD             2\n",
      "1                                    ABCDEF             1\n",
      "2                                   ABCDEFG             1\n",
      "3   Harry Potter and the Chamber of Secrets             1\n",
      "4      Harry Potter and the Goblet of Fire              3\n",
      "5  Harry Potter and the Prisoner of Azkaban             1\n",
      "6     Harry Potter and the Sorcerer's Stone             1\n",
      "7                                       OPQ             1\n"
     ]
    }
   ],
   "source": [
    "print(data)"
   ]
  },
  {
   "cell_type": "code",
   "execution_count": 90,
   "id": "5cb4a705",
   "metadata": {},
   "outputs": [
    {
     "name": "stdout",
     "output_type": "stream",
     "text": [
      "User-ID                                   276725  276726  276727  276729  \\\n",
      "Book-Title                                                                 \n",
      "ABCD                                         0.0     0.0     6.0     0.0   \n",
      "ABCDEF                                       0.0     0.0     0.0     0.0   \n",
      "ABCDEFG                                      0.0     0.0     0.0     0.0   \n",
      "Harry Potter and the Chamber of Secrets      0.0     0.0     0.0     0.0   \n",
      "Harry Potter and the Goblet of Fire          9.0     7.0     0.0     0.0   \n",
      "Harry Potter and the Prisoner of Azkaban     0.0     0.0     0.0     8.0   \n",
      "Harry Potter and the Sorcerer's Stone        0.0     0.0     0.0     0.0   \n",
      "OPQ                                          9.0     0.0     0.0     0.0   \n",
      "\n",
      "User-ID                                   276733  276736  276737  276744  \\\n",
      "Book-Title                                                                 \n",
      "ABCD                                         0.0     0.0     9.0     0.0   \n",
      "ABCDEF                                       0.0     0.0     0.0     0.0   \n",
      "ABCDEFG                                      0.0     0.0     0.0     0.0   \n",
      "Harry Potter and the Chamber of Secrets      0.0     0.0     0.0     8.0   \n",
      "Harry Potter and the Goblet of Fire         10.0     0.0     0.0     0.0   \n",
      "Harry Potter and the Prisoner of Azkaban     0.0     0.0     0.0     0.0   \n",
      "Harry Potter and the Sorcerer's Stone        0.0     9.0     0.0     0.0   \n",
      "OPQ                                          0.0     0.0     0.0     0.0   \n",
      "\n",
      "User-ID                                   276745  276746  \n",
      "Book-Title                                                \n",
      "ABCD                                         0.0     0.0  \n",
      "ABCDEF                                       7.0     0.0  \n",
      "ABCDEFG                                      0.0     6.0  \n",
      "Harry Potter and the Chamber of Secrets      0.0     0.0  \n",
      "Harry Potter and the Goblet of Fire          0.0     0.0  \n",
      "Harry Potter and the Prisoner of Azkaban     0.0     0.0  \n",
      "Harry Potter and the Sorcerer's Stone        0.0     0.0  \n",
      "OPQ                                          0.0     0.0  \n"
     ]
    }
   ],
   "source": [
    "print(matrix)"
   ]
  },
  {
   "cell_type": "code",
   "execution_count": 91,
   "id": "8c18ccd5",
   "metadata": {},
   "outputs": [
    {
     "name": "stdout",
     "output_type": "stream",
     "text": [
      "  (0, 2)\t6.0\n",
      "  (0, 6)\t9.0\n",
      "  (1, 8)\t7.0\n",
      "  (2, 9)\t6.0\n",
      "  (3, 7)\t8.0\n",
      "  (4, 0)\t9.0\n",
      "  (4, 1)\t7.0\n",
      "  (4, 4)\t10.0\n",
      "  (5, 3)\t8.0\n",
      "  (6, 5)\t9.0\n",
      "  (7, 0)\t9.0\n",
      "[[2.22044605e-16 1.00000000e+00 1.00000000e+00 1.00000000e+00\n",
      "  1.00000000e+00]] [[0 5 6 3 4]]\n"
     ]
    }
   ],
   "source": [
    "print(up_matrix)\n",
    "print(distances,indices)"
   ]
  },
  {
   "cell_type": "code",
   "execution_count": 43,
   "id": "30798f88",
   "metadata": {},
   "outputs": [
    {
     "name": "stdout",
     "output_type": "stream",
     "text": [
      "          User-ID  Book-Rating\n",
      "ISBN                          \n",
      "12345670   276725            9\n",
      "12345671   276746            6\n",
      "12345672   276745            7\n",
      "12345673   276744            8\n",
      "12345675   276736            9\n",
      "12345677   276729            8\n",
      "12345678   276727            6\n",
      "12345679   276725            9\n"
     ]
    }
   ],
   "source": [
    "testdf = pd.DataFrame()\n",
    "testdf['ISBN'] = df['ISBN']\n",
    "testdf['Book-Rating'] = df['Book-Rating']\n",
    "testdf['User-ID'] = df['User-ID']\n",
    "testdf = testdf[['User-ID','Book-Rating']].groupby(testdf['ISBN'])\n",
    "print(testdf.first())"
   ]
  },
  {
   "cell_type": "code",
   "execution_count": 10,
   "id": "ef308234",
   "metadata": {},
   "outputs": [
    {
     "name": "stdout",
     "output_type": "stream",
     "text": [
      "{12345670: [1], 12345671: [10], 12345672: [9], 12345673: [8], 12345675: [7], 12345677: [6], 12345678: [4, 5], 12345679: [0, 2, 3]}\n"
     ]
    }
   ],
   "source": [
    "testdf = pd.DataFrame()\n",
    "testdf['ISBN'] = df['ISBN']\n",
    "testdf['Book-Rating'] = df['Book-Rating']\n",
    "testdf['User-ID'] = df['User-ID']\n",
    "testdf = testdf[['User-ID','Book-Rating']].groupby(testdf['ISBN'])\n",
    "print(testdf.groups)"
   ]
  },
  {
   "cell_type": "code",
   "execution_count": 11,
   "id": "1620ed6e",
   "metadata": {},
   "outputs": [
    {
     "name": "stdout",
     "output_type": "stream",
     "text": [
      "   User-ID  Book-Rating\n",
      "1   276725            9\n",
      "    User-ID  Book-Rating\n",
      "10   276746            6\n",
      "   User-ID  Book-Rating\n",
      "9   276745            7\n",
      "   User-ID  Book-Rating\n",
      "8   276744            8\n",
      "   User-ID  Book-Rating\n",
      "7   276736            9\n",
      "   User-ID  Book-Rating\n",
      "6   276729            8\n",
      "   User-ID  Book-Rating\n",
      "4   276727            6\n",
      "5   276737            9\n",
      "   User-ID  Book-Rating\n",
      "0   276725            9\n",
      "2   276726            7\n",
      "3   276733           10\n"
     ]
    }
   ],
   "source": [
    "for groupKey in testdf.groups.keys():\n",
    "    tempDict={}\n",
    "    groupDF = testdf.get_group(groupKey)\n",
    "    #groupDF= groupDF.reset_index(drop = True)\n",
    "    print(groupDF)\n",
    "    \n",
    "    #print(groupDF.iloc[0,0],groupDF.iloc[0,1])\n",
    "    #Dataframe.iloc[] method is used when the index label of a data frame is something other than numeric series of 0, 1, 2, 3….n"
   ]
  },
  {
   "cell_type": "code",
   "execution_count": 36,
   "id": "526f4de2",
   "metadata": {},
   "outputs": [
    {
     "name": "stdout",
     "output_type": "stream",
     "text": [
      "   User-ID  Book-Rating\n",
      "0   276725            9\n",
      "{276725: 9}\n",
      "   User-ID  Book-Rating\n",
      "0   276746            6\n",
      "{276746: 6}\n",
      "   User-ID  Book-Rating\n",
      "0   276745            7\n",
      "{276745: 7}\n",
      "   User-ID  Book-Rating\n",
      "0   276744            8\n",
      "{276744: 8}\n",
      "   User-ID  Book-Rating\n",
      "0   276736            9\n",
      "{276736: 9}\n",
      "   User-ID  Book-Rating\n",
      "0   276729            8\n",
      "{276729: 8}\n",
      "   User-ID  Book-Rating\n",
      "0   276727            6\n",
      "1   276737            9\n",
      "{276727: 6, 276737: 9}\n",
      "   User-ID  Book-Rating\n",
      "0   276725            9\n",
      "1   276726            7\n",
      "2   276733           10\n",
      "{276725: 9, 276726: 7, 276733: 10}\n"
     ]
    }
   ],
   "source": [
    "for groupKey in testdf.groups.keys():\n",
    "    tempDict={}\n",
    "    groupDF = testdf.get_group(groupKey)\n",
    "    #print(testdf.get_group(groupKey))\n",
    "    groupDF= groupDF.reset_index(drop = True)\n",
    "    print(groupDF)\n",
    "    for i in range(0,len(groupDF)):\n",
    "        tempDict[groupDF.iloc[i,0]] = groupDF.iloc[i,1]\n",
    "        #print(i)\n",
    "    print(tempDict)"
   ]
  },
  {
   "cell_type": "code",
   "execution_count": null,
   "id": "22863e31",
   "metadata": {},
   "outputs": [],
   "source": [
    "for groupKey in testdf.groups.keys():\n",
    "    tempDict={}\n",
    "    groupDF = testdf.get_group(groupKey)\n",
    "    print(testdf.get_group(groupKey))\n",
    "    groupDF= groupDF.reset_index(drop = True)\n",
    "    for i in range(0,len(groupDF)):\n",
    "        tempDict[groupDF.iloc[i,0]] = groupDF.iloc[i,1]\n",
    "        #print(i)\n",
    "    print(tempDict)"
   ]
  },
  {
   "cell_type": "code",
   "execution_count": 13,
   "id": "9f08f9a7",
   "metadata": {},
   "outputs": [
    {
     "name": "stdout",
     "output_type": "stream",
     "text": [
      "{0: 12345670, 1: 12345671, 2: 12345672, 3: 12345673, 4: 12345675, 5: 12345677, 6: 12345678, 7: 12345679}\n"
     ]
    }
   ],
   "source": [
    "listOfDictonaries=[]\n",
    "indexMap = {}\n",
    "ptr=0\n",
    "\n",
    "for groupKey in testdf.groups.keys():\n",
    "    tempDict={}\n",
    "    groupDF = testdf.get_group(groupKey)\n",
    "    groupDF= groupDF.reset_index(drop = True)\n",
    "    for i in range(0,len(groupDF)):\n",
    "        tempDict[groupDF.iloc[i,0]] = groupDF.iloc[i,1] #[i,0]=user-id [i,1]=rating\n",
    "    #in tempdict key=userid value=rating\n",
    "    indexMap[ptr]=groupKey #indexMap has isbn values\n",
    "    ptr=ptr+1\n",
    "    listOfDictonaries.append(tempDict) \n",
    "print(indexMap)"
   ]
  },
  {
   "cell_type": "code",
   "execution_count": 14,
   "id": "4c66a0ed",
   "metadata": {},
   "outputs": [
    {
     "name": "stdout",
     "output_type": "stream",
     "text": [
      "[{276725: 9}, {276746: 6}, {276745: 7}, {276744: 8}, {276736: 9}, {276729: 8}, {276727: 6, 276737: 9}, {276725: 9, 276726: 7, 276733: 10}]\n"
     ]
    }
   ],
   "source": [
    "print(listOfDictonaries)"
   ]
  },
  {
   "cell_type": "code",
   "execution_count": 44,
   "id": "c303c616",
   "metadata": {},
   "outputs": [
    {
     "name": "stdout",
     "output_type": "stream",
     "text": [
      "[[ 9.  0.  0.  0.  0.  0.  0.  0.  0.  0.]\n",
      " [ 0.  0.  0.  0.  0.  0.  0.  0.  0.  6.]\n",
      " [ 0.  0.  0.  0.  0.  0.  0.  0.  7.  0.]\n",
      " [ 0.  0.  0.  0.  0.  0.  0.  8.  0.  0.]\n",
      " [ 0.  0.  0.  0.  0.  9.  0.  0.  0.  0.]\n",
      " [ 0.  0.  0.  8.  0.  0.  0.  0.  0.  0.]\n",
      " [ 0.  0.  6.  0.  0.  0.  9.  0.  0.  0.]\n",
      " [ 9.  7.  0.  0. 10.  0.  0.  0.  0.  0.]]\n"
     ]
    }
   ],
   "source": [
    " #This transformer turns lists of mappings (dict-like objects) \n",
    "#of feature names to feature values into arrays\n",
    "uimatrix= DictVectorizer(sparse=False).fit_transform(listOfDictonaries)\n",
    "#print(dictVectorizer.inverse_transform(uimatrix))\n",
    "print(uimatrix)\n",
    "#pairwiseSimilarity = cosine_similarity(uimatrix)"
   ]
  },
  {
   "cell_type": "code",
   "execution_count": 28,
   "id": "7ebb6010",
   "metadata": {},
   "outputs": [
    {
     "name": "stdout",
     "output_type": "stream",
     "text": [
      "[[1.         0.         0.         0.         0.         0.\n",
      "  0.         0.59344243]\n",
      " [0.         1.         0.         0.         0.         0.\n",
      "  0.         0.        ]\n",
      " [0.         0.         1.         0.         0.         0.\n",
      "  0.         0.        ]\n",
      " [0.         0.         0.         1.         0.         0.\n",
      "  0.         0.        ]\n",
      " [0.         0.         0.         0.         1.         0.\n",
      "  0.         0.        ]\n",
      " [0.         0.         0.         0.         0.         1.\n",
      "  0.         0.        ]\n",
      " [0.         0.         0.         0.         0.         0.\n",
      "  1.         0.        ]\n",
      " [0.59344243 0.         0.         0.         0.         0.\n",
      "  0.         1.        ]]\n"
     ]
    }
   ],
   "source": [
    "pairwiseSimilarity = cosine_similarity(uimatrix)\n",
    "print(pairwiseSimilarity)"
   ]
  },
  {
   "cell_type": "code",
   "execution_count": 29,
   "id": "be98d87b",
   "metadata": {},
   "outputs": [
    {
     "name": "stdout",
     "output_type": "stream",
     "text": [
      "{0: 12345670, 1: 12345671, 2: 12345672, 3: 12345673, 4: 12345675, 5: 12345677, 6: 12345678, 7: 12345679}\n",
      "{12345670: 0, 12345671: 1, 12345672: 2, 12345673: 3, 12345675: 4, 12345677: 5, 12345678: 6, 12345679: 7}\n"
     ]
    }
   ],
   "source": [
    "df = pd.DataFrame(dataset1['Book-Title'].value_counts())\n",
    "df['Total-Ratings'] = df['Book-Title']\n",
    "df['Book-Title'] = df.index\n",
    "df.reset_index(level=0, inplace=True)\n",
    "df = df.drop('index',axis=1)\n",
    "df = dataset1.merge(df, left_on = 'Book-Title', right_on = 'Book-Title', how = 'left')\n",
    "\n",
    "listOfDictonaries=[]\n",
    "reverseIndexMap = {}\n",
    "indexMap = {}\n",
    "ptr=0\n",
    "\n",
    "for groupKey in testdf.groups.keys():\n",
    "    tempDict={}\n",
    "    groupDF = testdf.get_group(groupKey)\n",
    "    groupDF= groupDF.reset_index(drop = True)\n",
    "    for i in range(0,len(groupDF)):\n",
    "        tempDict[groupDF.iloc[i,0]] = groupDF.iloc[i,1] #[i,0]=user-id [i,1]=rating\n",
    "    #in tempdict key=userid value=rating\n",
    "    indexMap[ptr]=groupKey #indexMap has isbn values\n",
    "    reverseIndexMap[groupKey] = ptr\n",
    "    ptr=ptr+1\n",
    "    listOfDictonaries.append(tempDict) \n",
    "\n",
    "#print(indexMap)\n",
    "dictVectorizer = DictVectorizer(sparse=True)\n",
    "uimatrix = dictVectorizer.fit_transform(listOfDictonaries)\n",
    "#print(uimatrix)\n",
    "pairwiseSimilarity = cosine_similarity(uimatrix)\n",
    "print(indexMap)\n",
    "print(reverseIndexMap)"
   ]
  },
  {
   "cell_type": "code",
   "execution_count": 51,
   "id": "a4ef4027",
   "metadata": {},
   "outputs": [],
   "source": [
    "    \n",
    "def getTopRecommandations(bookID):\n",
    "    collaborative = []\n",
    "    row = reverseIndexMap[bookID]\n",
    "    print(\"\\nRECOMMENDATIONS:\\n\")\n",
    "    \n",
    "    mn = 0\n",
    "    similar = []\n",
    "    print(row)\n",
    "    print(np.argsort(pairwiseSimilarity[row])[:-1][::-1])\n",
    "    for i in np.argsort(pairwiseSimilarity[row])[:-1][::-1]:\n",
    "          if dataset1[dataset1['ISBN']==indexMap[i]]['Book-Title'].values[0] not in similar:\n",
    "                #print(dataset1[dataset1['ISBN']==indexMap[i]]['Book-Title'].values[0])\n",
    "                #print(dataset1[dataset1['ISBN']==indexMap[i]]['Book-Title'].values)\n",
    "                if mn>=1:\n",
    "                      break\n",
    "                mn+=1\n",
    "                similar.append(dataset1[dataset1['ISBN']==indexMap[i]]['Book-Title'].values[0])\n",
    "                collaborative.append(dataset1[dataset1['ISBN']==indexMap[i]]['Book-Title'].values[0])\n",
    "    return collaborative"
   ]
  },
  {
   "cell_type": "code",
   "execution_count": 53,
   "id": "6fa9378b",
   "metadata": {},
   "outputs": [
    {
     "name": "stdout",
     "output_type": "stream",
     "text": [
      "Enter Book Name: ABC\n",
      "['ABC', 'OPQ', 'ABC', 'ABC', 'BCD', 'BCD', 'DEF', 'GHI', 'JKL', 'KLM', 'MNO']\n",
      "[12345679, 12345670, 12345679, 12345679, 12345678, 12345678, 12345677, 12345675, 12345673, 12345672, 12345671]\n",
      "12345679\n",
      "\n",
      "RECOMMENDATIONS:\n",
      "\n",
      "7\n",
      "[0 6 5 4 3 2 1]\n",
      "['OPQ']\n"
     ]
    }
   ],
   "source": [
    "bookName=input(\"Enter Book Name: \")\n",
    "k = list(dataset1['Book-Title'])\n",
    "m = list(dataset1['ISBN'])\n",
    "print(k)\n",
    "print(m)\n",
    "print(m[k.index(bookName)])\n",
    "collaborative = getTopRecommandations(m[k.index(bookName)])\n",
    "print(collaborative)"
   ]
  },
  {
   "cell_type": "code",
   "execution_count": null,
   "id": "883302f2",
   "metadata": {},
   "outputs": [],
   "source": [
    "#15.165750888103101108513650872564"
   ]
  }
 ],
 "metadata": {
  "kernelspec": {
   "display_name": "Python 3 (ipykernel)",
   "language": "python",
   "name": "python3"
  },
  "language_info": {
   "codemirror_mode": {
    "name": "ipython",
    "version": 3
   },
   "file_extension": ".py",
   "mimetype": "text/x-python",
   "name": "python",
   "nbconvert_exporter": "python",
   "pygments_lexer": "ipython3",
   "version": "3.9.6"
  }
 },
 "nbformat": 4,
 "nbformat_minor": 5
}
